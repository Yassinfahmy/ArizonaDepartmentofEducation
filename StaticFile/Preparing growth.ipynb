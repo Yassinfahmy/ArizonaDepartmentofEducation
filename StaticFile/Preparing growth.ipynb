{
 "cells": [
  {
   "cell_type": "code",
   "execution_count": 1,
   "id": "b7491f42",
   "metadata": {},
   "outputs": [],
   "source": [
    "import pandas as pd\n",
    "import pyodbc"
   ]
  },
  {
   "cell_type": "code",
   "execution_count": 2,
   "id": "d65fcd0b",
   "metadata": {},
   "outputs": [],
   "source": [
    "server_02_str = (\"Driver={ODBC Driver 17 for SQL Server};\"\n",
    "            \"Server=AACTASTPDDBVM02;\"\n",
    "            \"Trusted_Connection=yes;\")\n",
    "cnxn = pyodbc.connect(server_02_str)"
   ]
  },
  {
   "cell_type": "code",
   "execution_count": null,
   "id": "41d56644",
   "metadata": {},
   "outputs": [],
   "source": [
    "#get data from server\n",
    "sql23 = '''select *\n",
    "         FROM [AccountabilityArchive].[Static].[PrelimV6StaticFile2023]\n",
    "         where fiscalyear=2023'''\n",
    "data23 = pd.read_sql(sql23 , cnxn)"
   ]
  },
  {
   "cell_type": "code",
   "execution_count": null,
   "id": "f273e191",
   "metadata": {},
   "outputs": [],
   "source": [
    "sql22 = '''select *\n",
    "         FROM [AccountabilityArchive].[Static].[LiveStaticFile2022]\n",
    "         where fiscalyear=2022'''\n",
    "data22 = pd.read_sql(sql22 , cnxn)"
   ]
  },
  {
   "cell_type": "code",
   "execution_count": null,
   "id": "17b5560d",
   "metadata": {},
   "outputs": [],
   "source": [
    "sql21 = '''select *\n",
    "         FROM [REDATA].[dbo].[StaticFileData2021]\n",
    "         where fiscalyear=2021'''\n",
    "data21 = pd.read_sql(sql21 , cnxn)"
   ]
  },
  {
   "cell_type": "code",
   "execution_count": null,
   "id": "aabe68f1",
   "metadata": {},
   "outputs": [],
   "source": [
    "#close connection\n",
    "cnxn.close()"
   ]
  },
  {
   "cell_type": "markdown",
   "id": "7fc37d98",
   "metadata": {},
   "source": [
    "# to do\n",
    "\n",
    "* AssessmentSubtestTitle\n",
    "* ethnicity\n",
    "\n",
    "\n",
    "\n",
    "\n",
    "\n"
   ]
  },
  {
   "cell_type": "code",
   "execution_count": 96,
   "id": "acf743c5",
   "metadata": {},
   "outputs": [],
   "source": [
    "#rename cols to be consistent with DR.B preference\n",
    "col_rename = {'SAISID':'ID'\n",
    "               ,'FiscalYear': 'YEAR'\n",
    "               ,'SchoolCode': 'SCHOOL_NUMBER'\n",
    "               ,'SchoolName': 'SCHOOL_NAME'\n",
    "               ,'DistrictCode': 'DISTRICT_NUMBER'\n",
    "               ,'DistrictName': 'DISTRICT_NAME'\n",
    "               ,'Subject': 'CONTENT_AREA'\n",
    "               ,'Performance': 'ACHIEVEMENT_LEVEL'\n",
    "               ,'StudentGrade': 'GRADE_ENROLLED'\n",
    "               ,'ScaleScore': 'SCALE_SCORE'\n",
    "               ,'FirstName': 'FIRST_NAME'\n",
    "               ,'LastName': 'LAST_NAME'\n",
    "               ,'FAY': 'SCHOOL_ENROLLMENT_STATUS'\n",
    "               ,'DistrictFAY': 'DISTRICT_ENROLLMENT_STATUS'\n",
    "               ,'Gender': 'GENDER'\n",
    "               ,'Ethnicity': 'ETHNICITY'\n",
    "               ,'IncomeEligibility1and2': 'FREE_REDUCED_LUNCH_STATUS'\n",
    "               ,'SPED': 'SPED_STATUS'\n",
    "               ,'EL': 'ELL_STATUS'}\n",
    "\n",
    "ethinicity_dict = {'A':'Asian'\n",
    "                ,'B':'Black/African American'\n",
    "                ,'H':'Hispanic or Latino'\n",
    "                ,'I':'American Indian or Alaska Native'\n",
    "                ,'W':'White'\n",
    "                ,'R':'Multiple Races'\n",
    "                ,'P':'Native Hawaiian or Pacific Islander'\n",
    "                ,'U':'Unknown'}"
   ]
  },
  {
   "cell_type": "code",
   "execution_count": 108,
   "id": "3cc17f36",
   "metadata": {
    "scrolled": false
   },
   "outputs": [
    {
     "name": "stdout",
     "output_type": "stream",
     "text": [
      "['2021']\n",
      "(2191574, 60) ---> ELA and Math records only\n",
      "['ELA' 'MATH']\n",
      "['Female' 'Male' 'Unknown']\n",
      "(2182233, 60) ---> ALT assessment records removed\n",
      "(882169, 60) ---> Tested in grades 3 to 8 only\n",
      "[3 5 7 4 6 8]\n",
      "(882169, 20) final shape \n",
      "\n",
      "[2022.]\n",
      "(1585130, 68) ---> ELA and Math records only\n",
      "['ELA' 'MATH']\n",
      "['Female' 'Male' 'Unknown']\n",
      "(1412575, 68) ---> ALT assessment records removed\n",
      "(1063480, 68) ---> Tested in grades 3 to 8 only\n",
      "[5. 6. 4. 3. 8. 7.]\n",
      "(1063480, 20) final shape \n",
      "\n",
      "[2023.]\n",
      "(1555144, 62) ---> ELA and Math records only\n",
      "['ELA' 'MATH']\n",
      "['Male' 'Female' 'Unknown']\n",
      "(1048878, 62) ---> ALT assessment records removed\n",
      "(1048878, 62) ---> Tested in grades 3 to 8 only\n",
      "[3. 7. 6. 5. 4. 8.]\n",
      "(1048878, 20) final shape \n",
      "\n"
     ]
    }
   ],
   "source": [
    "\n",
    "data = pd.DataFrame()\n",
    "for df in [data21, data22, data23]:\n",
    "\n",
    "    temp = df.copy()\n",
    "    print(temp.FiscalYear.unique())\n",
    "    \n",
    "    #============== Subject formatting\n",
    "    # change subject to str in 2021\n",
    "    if 2021 in temp.FiscalYear.astype(int).unique():\n",
    "        for SubN, SubStr in zip(['677','675'], ['MATH', 'ELA']):\n",
    "            temp.Subject = temp.Subject.astype(str).str.replace(SubN, SubStr, regex=True)\n",
    "    else:\n",
    "        # change subject to str in 2022 and 2023\n",
    "        for SubN, SubStr in zip(['Math','ELA'], ['MATH', 'ELA']):\n",
    "            temp.Subject = temp.Subject.astype(str).str.replace(SubN, SubStr, regex=True)\n",
    "    #only include math and ELA\n",
    "    temp =temp[temp.Subject.isin(['MATH', 'ELA'])].copy()\n",
    "    print(temp.shape, '---> ELA and Math records only')\n",
    "    print(temp.Subject.unique())\n",
    "    \n",
    "    #============== Gender Formating\n",
    "    # change gender to full words\n",
    "    for GenderN, GenderStr in zip(['M','F', 'U'], ['Male', 'Female', 'Unknown']):\n",
    "        temp['Gender'] = temp.Gender.astype(str).str.replace(GenderN, GenderStr, regex=True)\n",
    "    print(temp.Gender.unique())\n",
    "        \n",
    "    #============== Exclude MSAA records\n",
    "    #convert scale score to numeric to use to identify alty assessments since 2021 staticfile didn't have an alternative assessment identifier\n",
    "    temp['ScaleScore'] = pd.to_numeric(temp['ScaleScore'], errors='coerce')\n",
    "    if 2021 in temp.FiscalYear.astype(int).unique():\n",
    "        temp = temp[~temp.ScaleScore.between(1200, 1290)].copy()\n",
    "    else:\n",
    "        temp = temp[temp.TestType==680].copy()\n",
    "    print(temp.shape, '---> ALT assessment records removed')\n",
    "    \n",
    "    #============== Exclude non-tested students and grades other than 3-8\n",
    "    temp['StudentGrade'] = pd.to_numeric(temp['StudentGrade'], errors='coerce')\n",
    "    mask = (temp.ScaleScore.notnull()) & (temp.StudentGrade.between(3,8))\n",
    "    temp = temp[mask].copy()\n",
    "    print(temp.shape, '---> Tested in grades 3 to 8 only')\n",
    "    print(temp.StudentGrade.unique())\n",
    "    \n",
    "    #=============== code FAY as binary\n",
    "    for fay_col in ['FAY', 'DistrictFAY']:\n",
    "        temp[fay_col] = pd.to_numeric(temp[fay_col], errors='coerce')\n",
    "        temp[fay_col] = temp[fay_col].apply(lambda x: 1 if x>=1 else 0)\n",
    "        \n",
    "    #=============== format EThnicity\n",
    "    temp.replace({'Ethnicity':ethinicity_dict}, inplace=True)\n",
    "    \n",
    "    #=============== keep cols in dict keys only\n",
    "    temp = temp[list(col_rename.keys())]\n",
    "    \n",
    "    #=============== Make AssessmentSubtestTitle col\n",
    "    temp['AssessmentSubtestTitle'] = temp.Subject + ' Grade '+ temp.StudentGrade.astype(int).astype(str)\n",
    "        \n",
    "    #=============== rename cols\n",
    "    temp.rename(col_rename, axis=1, inplace=True)\n",
    "    \n",
    "    ##status check\n",
    "    \n",
    "    print(temp.shape, 'final shape \\n') \n",
    "    \n",
    "    # add data to main df\n",
    "    data = pd.concat([data, temp], axis=0)\n"
   ]
  },
  {
   "cell_type": "code",
   "execution_count": 109,
   "id": "87ecf6f0",
   "metadata": {},
   "outputs": [],
   "source": [
    "#make sure numeric cols are numeric\n",
    "numeric_cols = ['ID', 'YEAR', 'SCHOOL_NUMBER','DISTRICT_NUMBER','ACHIEVEMENT_LEVEL', 'GRADE_ENROLLED', 'SCALE_SCORE', 'SCHOOL_ENROLLMENT_STATUS',\n",
    "       'DISTRICT_ENROLLMENT_STATUS', 'FREE_REDUCED_LUNCH_STATUS', 'SPED_STATUS', 'ELL_STATUS']\n",
    "for CN in numeric_cols:\n",
    "    data[CN] = pd.to_numeric(data[CN], errors='coerce')\n",
    "    \n",
    "# deduplicate records to keep highest score per kid per year per subject (regardless of school)\n",
    "data.sort_values(['YEAR', 'ID','CONTENT_AREA','GRADE_ENROLLED', 'SCALE_SCORE'], ascending=False, inplace=True)\n",
    "data = data [~data.duplicated(['YEAR', 'ID','CONTENT_AREA', 'GRADE_ENROLLED'])].copy()\n",
    "\n",
    "data.YEAR = data.YEAR.astype(int)\n",
    "data['TEST_MODE'] = None"
   ]
  },
  {
   "cell_type": "code",
   "execution_count": 111,
   "id": "ad7a3aa0",
   "metadata": {},
   "outputs": [],
   "source": [
    "#export data\n",
    "data.to_csv(r'C:\\Users\\yfahmy\\OneDrive - Arizona Dept. of Education\\Desktop\\2023\\Growth\\9.19.23\\Arizona_Data_LONG.csv', index=False, na_rep='')"
   ]
  },
  {
   "cell_type": "code",
   "execution_count": null,
   "id": "78909621",
   "metadata": {},
   "outputs": [],
   "source": []
  }
 ],
 "metadata": {
  "kernelspec": {
   "display_name": "Python 3 (ipykernel)",
   "language": "python",
   "name": "python3"
  },
  "language_info": {
   "codemirror_mode": {
    "name": "ipython",
    "version": 3
   },
   "file_extension": ".py",
   "mimetype": "text/x-python",
   "name": "python",
   "nbconvert_exporter": "python",
   "pygments_lexer": "ipython3",
   "version": "3.9.7"
  }
 },
 "nbformat": 4,
 "nbformat_minor": 5
}
